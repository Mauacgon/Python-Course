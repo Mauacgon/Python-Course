{
 "cells": [
  {
   "cell_type": "code",
   "execution_count": 35,
   "metadata": {},
   "outputs": [],
   "source": [
    "board = [\" \",\" \",\" \",\" \",\" \",\" \",\" \",\" \",\" \"]\n",
    "\n",
    "from IPython.display import clear_output\n",
    "\n",
    "def display_board():\n",
    "    print(board[0]+\"|\"+board[1]+\"|\"+board[2])\n",
    "    print(\"-----\")\n",
    "    print(board[3]+\"|\"+board[4]+\"|\"+board[5])\n",
    "    print(\"-----\")\n",
    "    print(board[6]+\"|\"+board[7]+\"|\"+board[8])\n",
    "\n",
    "\n",
    "player1mark = \"LOL\"\n",
    "player2mark = \"LEL\"\n",
    "\n",
    "def choose():\n",
    "\n",
    "    global player1mark\n",
    "    global player2mark\n",
    "    \n",
    "    while not player1mark == \"X\" and not player1mark == \"O\":\n",
    "        \n",
    "        player1mark = input(\"Player 1 starts, please, choose your mark between X and O:\").upper()\n",
    "        \n",
    "        if not player1mark == \"X\" and not player1mark == \"O\":\n",
    "            print(\"Sorry, I cannot understand you, please, choose a mark between X and O\")\n",
    "            \n",
    "    if player1mark == \"X\":\n",
    "        player2mark = \"O\"\n",
    "    else:\n",
    "        player2mark = \"X\"\n",
    "    \n",
    "    print(\"player 1:{}\".format(player1mark))\n",
    "    print(\"player 2:{}\".format(player2mark))\n",
    "    \n",
    "    \n",
    "def check_conditions():\n",
    "    \n",
    "    \n",
    "    for i in range(0,3):\n",
    "        vv = board[i] == board[i+3] == board[i+6] != \" \" \n",
    "        vh = board[i+2*i] == board[1+i+2*i] == board[2+i+2*i] != \" \"\n",
    "        true_or_false.append(vv)\n",
    "        true_or_false.append(vh)\n",
    "        \n",
    "    vd1 = board[0] == board[4] == board[8] != \" \"\n",
    "    vd2 = board[2] == board[4] == board[6] != \" \"\n",
    "    draw = board[0] != \" \" and board[1] != \" \" and board[2] != \" \" and\\\n",
    "    board[3] != \" \" and board[4] != \" \" and board[5] != \" \" and board [6] != \" \" and\\\n",
    "    board[7] != \" \" and board[8] != \" \"\n",
    "\n",
    "    \n",
    "    true_or_false.append(vd1)\n",
    "    true_or_false.append(vd2)\n",
    "    true_or_false.append(draw)    \n",
    "    \n",
    "    \n",
    "    \n",
    "def start_game():\n",
    "    \n",
    "    \n",
    "    global true_or_false\n",
    "    global board\n",
    "    global playagain\n",
    "    playagain = \"S\"\n",
    "    refresh = 0\n",
    "    \n",
    "    #Verifyingn within the While if the game is over because someone won or there is a draw\n",
    "    \n",
    "    \n",
    "    while not playagain == \"N\":\n",
    "        \n",
    "        counter = 0\n",
    "        true_or_false = []\n",
    "        player = 1\n",
    "        playagain = \"S\"\n",
    "        \n",
    "        while sum(true_or_false) == 0:\n",
    "\n",
    "            ##Counter is for determining which player has the turn\n",
    "\n",
    "            counter += 1\n",
    "            \n",
    "            if counter > 1:\n",
    "                clear_output()\n",
    "\n",
    "            if counter%2 != 0:\n",
    "                player = 1\n",
    "            else:\n",
    "                player = 2\n",
    "                \n",
    "            display_board()\n",
    "\n",
    "            numbers = [1,2,3,4,5,6,7,8,9]\n",
    "\n",
    "            move = 20\n",
    "\n",
    "            while int(move) not in numbers or board[int(move)-1] != \" \":\n",
    "                \n",
    "                digit = False\n",
    "                \n",
    "                while digit == False:\n",
    "\n",
    "                    move = input(\"Turn of player {}, please, choose a square:__\".format(player))\n",
    "                    \n",
    "                    digit = move.isdigit()\n",
    "                    \n",
    "                    if digit == False:\n",
    "                        print(\"the introduced square is not an integer, please choose a square between 1 and 9\")\n",
    "\n",
    "                if int(move) not in numbers:\n",
    "                    print(\"the introduced square does not exist, please choose a square between 1 and 9\")\n",
    "\n",
    "                if int(move) in numbers and board[int(move)-1] != \" \":\n",
    "                    print(\"the square is already taken by other token, please, select another one\")\n",
    "\n",
    "            if player == 1:\n",
    "                board[int(move)-1] = player1mark\n",
    "            else:\n",
    "                board[int(move)-1] = player2mark\n",
    "\n",
    "            display_board()\n",
    "\n",
    "            check_conditions()        \n",
    "\n",
    "\n",
    "        board = [\" \",\" \",\" \",\" \",\" \",\" \",\" \",\" \",\" \"]\n",
    "\n",
    "        if true_or_false[len(true_or_false)-1] and sum(true_or_false) == 1:\n",
    "            \n",
    "            print(\"DRAW\")        \n",
    "            \n",
    "        else:\n",
    "            \n",
    "            print(\"Winner is player {}\".format(player))\n",
    "        \n",
    "        while not playagain == \"Y\" and not playagain == \"N\":\n",
    "        \n",
    "            playagain = input(\"do yo want to play again? (Y/N):__\")\n",
    "            \n",
    "            if not playagain ==\"Y\" and not playagain == \"N\":\n",
    "                print(\"I can't understand if you want to keepl playing, please, choose Y or N\")\n",
    "                \n",
    "        if playagain == \"N\":\n",
    "            clear_output()\n",
    "            print(\"Quitting tictactoc, see you soon!\")\n",
    "            \n",
    "        if playagain == \"Y\":\n",
    "            clear_output() ##This could be placed in the function display_board, before the print functions, it would be optimal\n",
    "                \n",
    "def play_tictactoc():\n",
    "    choose()\n",
    "    start_game()\n",
    "    \n",
    "    "
   ]
  },
  {
   "cell_type": "code",
   "execution_count": 36,
   "metadata": {},
   "outputs": [
    {
     "name": "stdout",
     "output_type": "stream",
     "text": [
      "Quitting tictactoc, see you soon!\n"
     ]
    }
   ],
   "source": [
    "play_tictactoc()"
   ]
  },
  {
   "cell_type": "markdown",
   "metadata": {},
   "source": [
    "digit = \"lel\".isdigit"
   ]
  },
  {
   "cell_type": "code",
   "execution_count": 5,
   "metadata": {},
   "outputs": [
    {
     "data": {
      "text/plain": [
       "True"
      ]
     },
     "execution_count": 5,
     "metadata": {},
     "output_type": "execute_result"
    }
   ],
   "source": [
    "true_or_false[len(true_or_false)-1]"
   ]
  },
  {
   "cell_type": "code",
   "execution_count": 8,
   "metadata": {},
   "outputs": [
    {
     "data": {
      "text/plain": [
       "True"
      ]
     },
     "execution_count": 8,
     "metadata": {},
     "output_type": "execute_result"
    }
   ],
   "source": [
    "not digit"
   ]
  },
  {
   "cell_type": "code",
   "execution_count": 5,
   "metadata": {},
   "outputs": [
    {
     "data": {
      "text/plain": [
       "<function str.isdigit()>"
      ]
     },
     "execution_count": 5,
     "metadata": {},
     "output_type": "execute_result"
    }
   ],
   "source": [
    "\"lel\".isdigit"
   ]
  },
  {
   "cell_type": "code",
   "execution_count": null,
   "metadata": {},
   "outputs": [],
   "source": []
  }
 ],
 "metadata": {
  "kernelspec": {
   "display_name": "Python 3",
   "language": "python",
   "name": "python3"
  },
  "language_info": {
   "codemirror_mode": {
    "name": "ipython",
    "version": 3
   },
   "file_extension": ".py",
   "mimetype": "text/x-python",
   "name": "python",
   "nbconvert_exporter": "python",
   "pygments_lexer": "ipython3",
   "version": "3.7.6"
  }
 },
 "nbformat": 4,
 "nbformat_minor": 4
}
